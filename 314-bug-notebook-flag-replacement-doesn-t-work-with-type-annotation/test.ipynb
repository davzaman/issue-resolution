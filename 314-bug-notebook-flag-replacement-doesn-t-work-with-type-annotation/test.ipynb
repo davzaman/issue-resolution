{
 "cells": [
  {
   "cell_type": "code",
   "execution_count": 2,
   "id": "4e0ac6b5",
   "metadata": {},
   "outputs": [
    {
     "name": "stdout",
     "output_type": "stream",
     "text": [
      "z: 3\n"
     ]
    }
   ],
   "source": [
    "x = 1\n",
    "y: float = 2\n",
    "print(f\"z: {x + y}\")"
   ]
  }
 ],
 "metadata": {
  "kernelspec": {
   "display_name": "Python 3.8.10 64-bit ('.venv': venv)",
   "language": "python",
   "name": "python3810jvsc74a57bd071f63cd4c53f2f44e4000560741426e8d14cd0bbcb81a8d51ce315d2789c0702"
  },
  "language_info": {
   "codemirror_mode": {
    "name": "ipython",
    "version": 3
   },
   "file_extension": ".py",
   "mimetype": "text/x-python",
   "name": "python",
   "nbconvert_exporter": "python",
   "pygments_lexer": "ipython3",
   "version": "3.8.10"
  }
 },
 "nbformat": 4,
 "nbformat_minor": 5
}
