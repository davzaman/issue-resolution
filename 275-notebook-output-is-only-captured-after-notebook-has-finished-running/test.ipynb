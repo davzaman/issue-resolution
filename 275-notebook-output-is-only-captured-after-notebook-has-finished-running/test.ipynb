{
 "cells": [
  {
   "cell_type": "code",
   "execution_count": null,
   "id": "adverse-framing",
   "metadata": {
    "execution": {
     "iopub.execute_input": "2021-03-16T00:01:09.751687Z",
     "iopub.status.busy": "2021-03-16T00:01:09.750785Z",
     "iopub.status.idle": "2021-03-16T00:01:09.754411Z",
     "shell.execute_reply": "2021-03-16T00:01:09.753489Z"
    }
   },
   "outputs": [],
   "source": [
    "import time\n",
    "import tensorboardX"
   ]
  },
  {
   "cell_type": "code",
   "execution_count": null,
   "id": "sized-seating",
   "metadata": {},
   "outputs": [],
   "source": [
    "events = tensorboardX.SummaryWriter(\".\")"
   ]
  },
  {
   "cell_type": "code",
   "execution_count": null,
   "id": "looking-study",
   "metadata": {
    "execution": {
     "iopub.execute_input": "2021-03-16T00:01:09.760918Z",
     "iopub.status.busy": "2021-03-16T00:01:09.760008Z",
     "iopub.status.idle": "2021-03-16T00:01:49.797476Z",
     "shell.execute_reply": "2021-03-16T00:01:49.795836Z"
    }
   },
   "outputs": [],
   "source": [
    "for step, loss in enumerate([1.0, 0.5, 0.2, 0.1, 0.05, 0.02, 0.002, 0.001]):\n",
    "    print(\"Loss for step %i = %f\" % (step, loss))\n",
    "    events.add_scalar(\"loss\", loss, global_step=step)\n",
    "    events.flush()\n",
    "    time.sleep(5)"
   ]
  },
  {
   "cell_type": "code",
   "execution_count": null,
   "id": "destroyed-flour",
   "metadata": {},
   "outputs": [],
   "source": [
    "events.close()"
   ]
  }
 ],
 "metadata": {
  "kernelspec": {
   "display_name": "Python 3",
   "language": "python",
   "name": "python3"
  },
  "language_info": {
   "codemirror_mode": {
    "name": "ipython",
    "version": 3
   },
   "file_extension": ".py",
   "mimetype": "text/x-python",
   "name": "python",
   "nbconvert_exporter": "python",
   "pygments_lexer": "ipython3",
   "version": "3.6.13"
  }
 },
 "nbformat": 4,
 "nbformat_minor": 5
}
